{
 "cells": [
  {
   "cell_type": "markdown",
   "metadata": {},
   "source": [
    "# Analysis Report For Udacity Data Wrangling Project"
   ]
  },
  {
   "cell_type": "markdown",
   "metadata": {},
   "source": [
    "## Table of Contents\n",
    "<ul>\n",
    "<li><a href=\"#analyzing_conversations\">Analysis Of Conversations In The Replies</a></li>\n",
    "<li><a href=\"#analyzing_proportions\">Analysis Of The Proportions Of Dogs Detected In The Pictures</a></li>\n",
    "<li><a href=\"#analyzing_replies\">Analysis Of Replies Per User And Per Breed</a></li>\n",
    "<li><a href=\"#future\">Future Analysis</a></li>\n",
    "</ul>"
   ]
  },
  {
   "cell_type": "markdown",
   "metadata": {},
   "source": [
    "<a id='analyzing_conversations'></a>\n",
    "## Analysis Of Conversations In The Replies"
   ]
  },
  {
   "cell_type": "markdown",
   "metadata": {},
   "source": [
    "* The first analysis that we would like to do is related with the replies that the users made to the tweets in @dog_rates account. Many of this messages do not have any significance, I mean that they are tipical comments about a picture: \"How cute\", \"Look at this puppo.\", etc. But sometimes people can estart a conversation between them and maybe this type of comments can be more meaningful.\n",
    "\n",
    "We have extracted some of this conversations using the mentions that the users made to other users in their replies. Especifically we have filtered those replies in a conversation where one single user have mentioned another user more than five times in the same conversation. Usually we mean refer like 'conversation' to all the replies to a post or tweet of the principal page @dog_rates.\n",
    "\n",
    "We have choose five because we do not want to extract to many, but we can do that with other filter as 3 or 4. With more than five mentions we have found eleven cases: "
   ]
  },
  {
   "cell_type": "markdown",
   "metadata": {},
   "source": [
    "| Original User      | User Mentioned     | Conversation       | Mentions |\n",
    "|--------------------|--------------------|--------------------|----------|\n",
    "| 80630279           | 716594909709512705 | 874296783580663808 | 12       |\n",
    "| 160774025          | 111835051          | 672609152938721280 | 10       |\n",
    "| 274083242          | 22750218           | 817827839487737858 | 10       |\n",
    "| 274083242          | 22750218           | 836397794269200385 | 10       |\n",
    "| 3303277983         | 4519686269         | 830097400375152640 | 7        |\n",
    "| 3303277983         | 865851604838354945 | 830097400375152640 | 7        |\n",
    "| 716594909709512704 | 80630279           | 874296783580663808 | 7        |\n",
    "| 1130081593         | 47055321           | 878604707211726852 | 6        |\n",
    "| 22750218           | 274083242          | 817827839487737858 | 6        |\n",
    "| 22750218           | 274083242          | 836397794269200385 | 6        |\n",
    "| 2801001643         | 538278235          | 814578408554463233 | 6        |"
   ]
  },
  {
   "cell_type": "markdown",
   "metadata": {},
   "source": [
    "We can also see this results using social graphic librarys as networkx:\n",
    "<img src=pictures/social_plot.jpg alt=\"drawing\" width=\"900\"/>\n",
    "In this picture we have indicated in yellow the original account @dog_rates, the red nodes are the conversations id(The tweets in the original account) and in red the users who has replied tho this conversations. The arrows in this users indicate the other users who they have been mentioned more than five times."
   ]
  },
  {
   "cell_type": "markdown",
   "metadata": {},
   "source": [
    "We can explore some more details about some of this conversations, for example the picture on the tweet that have initiated this dialogues."
   ]
  },
  {
   "cell_type": "markdown",
   "metadata": {},
   "source": [
    "**Conversation ID:** 874296783580663808\n",
    "\n",
    "<img src=pictures/874296783580663808.jpg alt=\"drawing\" width=\"500\"/>"
   ]
  },
  {
   "cell_type": "markdown",
   "metadata": {},
   "source": [
    "It is not seems very threatening."
   ]
  },
  {
   "cell_type": "markdown",
   "metadata": {},
   "source": [
    "We can also show the text of the tweets involved in this conversation to see the debate that this picture has initiated."
   ]
  },
  {
   "cell_type": "markdown",
   "metadata": {},
   "source": [
    "| Conversation       | User Id            | References                              | Text                                                                                                                                           |\n",
    "|--------------------|--------------------|-----------------------------------------|------------------------------------------------------------------------------------------------------------------------------------------------|\n",
    "| 874296783580663808 | 80630279           | ['4196983835']                          | i notice the deck pots match his glorious coat. I'm assuming the inside   of the house is just as well-coordinated                             |\n",
    "| 874296783580663808 | 716594909709512704 | ['80630279', '4196983835', '120854387'] | My God why didn't I think of that? Life has a whole new purpose.                                                                               |\n",
    "| 874296783580663808 | 80630279           | ['716594909709512705']                  | hah! I dont have a dog at the mo', but rather a Maine Coone cat who   basically looks like a dusty Swiffer mop, so I'm good.                   |\n",
    "| 874296783580663808 | 716594909709512704 | ['80630279']                            | Do you have stripy walls & very fluffy furniture? I dress all in   black because                                                               |\n",
    "| 874296783580663808 | 80630279           | ['716594909709512705']                  | hah WoW! They're beauties and I can see why you would dress only in   black.Microsuede couches, & I have a lint roller.                        |\n",
    "| 874296783580663808 | 716594909709512704 | ['80630279']                            | Wow what a beauty! \\r\\n\\r\\nHave cornered the European lint roller market.                                                                      |\n",
    "| 874296783580663808 | 80630279           | ['716594909709512705']                  | He's also very vocal but yep, he's got a good look, especially sleeping.   \\r\\n\\r\\nYou're hilarious!                                           |\n",
    "| 874296783580663808 | 716594909709512704 | ['80630279']                            | Does your tiger sing the Airstream Song? \\r\\n\\r\\nI would love one so   much.                                                                   |\n",
    "| 874296783580663808 | 80630279           | ['716594909709512705']                  | That is so gorgeous! I am always on the lookout for one. 22ft. Maybe   1976. 1/4                                                               |\n",
    "| 874296783580663808 | 80630279           | ['716594909709512705']                  | oh yuk. I hadn't thought. Hopefully w/ tiny houses & such people are   learning about eco-insulation, solar, off-gassing etc                   |\n",
    "| 874296783580663808 | 80630279           | ['80630279', '716594909709512705']      | I've got 2 last links. Seattle vs Vancouver prices for 2 comparable rigs:   \\r\\n                                                               |\n",
    "| 874296783580663808 | 716594909709512704 | ['80630279']                            | You're right though, huge dif in price. The one in Vancouver looks   acceptable, yes I think I'll take it, would you have it delivered please. |\n",
    "| 874296783580663808 | 80630279           | ['716594909709512705']                  | That'll do. *sigh* *sips a cool beverage*                                                                                                      |\n",
    "| 874296783580663808 | 80630279           | ['716594909709512705']                  | it's So Sad! I see a lot of the longer ones are just left in fields to   rot! *weeps* especially in the south.                                 |\n",
    "| 874296783580663808 | 716594909709512704 | ['80630279']                            | I know they're like lost dreams. There's one fading away in a backyard in   Charleston I have dozens of pics of, and one in a barn in Maine.   |\n",
    "| 874296783580663808 | 80630279           | ['716594909709512705']                  | *funeral dirge plays*                                                                                                                          |\n",
    "| 874296783580663808 | 80630279           | ['716594909709512705']                  | I know, right. But quality always gets my creative juices churning. Mind   you, so does extremely tasteless stuff.                             |\n",
    "| 874296783580663808 | 80630279           | ['716594909709512705']                  | oooh, burn! and true.                                                                                                                          |\n",
    "| 874296783580663808 | 80630279           | ['716594909709512705']                  | not a bad hobby/passion, is it? Always seeing possibilities Nice.                                                                              |\n",
    "| 874296783580663808 | 716594909709512704 | ['80630279']                            | I think it's great. When I lived in Maine I considered creating a house   from 3 1970's house trailers arranged in a U around a gdn. But ...   |"
   ]
  },
  {
   "cell_type": "markdown",
   "metadata": {},
   "source": [
    "It seems that they have not been talking about the dog, but the furniture or some decoration in the house. I am not sure.\n",
    "\n",
    "We are goint to try onother dialog.\n",
    "\n",
    "**Conversation ID:** 672609152938721280\n",
    "\n",
    "<img src=pictures/672609152938721280.jpg alt=\"drawing\" width=\"500\"/>\n",
    "\n",
    "This is more funny!\n",
    "\n",
    "If we take a look to the text messages we can see that It has initiated a conversation about the danger of putting the dog in a microwave oven. We only see the tweets of one account because the other one (111835051) is private:"
   ]
  },
  {
   "cell_type": "markdown",
   "metadata": {},
   "source": [
    "| Conversation       | User Id   | References    | Text                                                                                                                                  |\n",
    "|--------------------|-----------|---------------|---------------------------------------------------------------------------------------------------------------------------------------|\n",
    "| 672609152938721280 | 160774025 | ['111835051'] | Regardless, even if it was put in there, it is not in any viable danger.   No harm done.                                              |\n",
    "| 672609152938721280 | 160774025 | ['111835051'] | If it wasn't on, and the baby was not in any danger of suffocation, it'd   be alright. Potential harm is not the same as actual harm. |\n",
    "| 672609152938721280 | 160774025 | ['111835051'] | assault is harmful or offensive contact with a person If no harm is   inflicted, then the definition of assault is not met.           |\n",
    "| 672609152938721280 | 160774025 | ['111835051'] | With that attitude, good luck with yours too. I'm having a delightful   existence free of any and all assault charges and much humor. |\n",
    "| 672609152938721280 | 160774025 | ['111835051'] | Implying a law degree makes you forever right in all such matters. Done   arguing, I'm tired. Take care.                              |\n",
    "| 672609152938721280 | 160774025 | ['111835051'] | there's nothing wrong with if it the dog gets in there of it's own   volition. Plus the door isn't shut. It can get out.              |\n",
    "| 672609152938721280 | 160774025 | ['111835051'] | Pretty medium sized dog, not really impossible, I've seen dogs fit into   some VERY bizarre spaces.                                   |\n",
    "| 672609152938721280 | 160774025 | ['111835051'] | My dog got in the back of an old CRT monitor when the back was off of it.   No assistance.                                            |\n",
    "| 672609152938721280 | 160774025 | ['111835051'] | It'd be one thing if the microwave was on/closed, but it isn't. I   appreciate your concern, but I think it is OK.                    |\n",
    "| 672609152938721280 | 160774025 | ['111835051'] | My brother's 80 pound greyhound can squeeze under my bed if he's   determined and scared of something. Veeeeery possible.             |"
   ]
  },
  {
   "cell_type": "markdown",
   "metadata": {},
   "source": [
    "<a id='analyzing_proportions'></a>\n",
    "## Analysis Of The Proportions Of Dogs Detected In The Pictures"
   ]
  },
  {
   "cell_type": "markdown",
   "metadata": {},
   "source": [
    "* In this part we are going to investigate how good or bad are the prediction methods. Expecifically we want to know if they are good predicting whether the picture is of a dog or not. To know this we are going to extract a random sample of 300 pictures and check them by ourserlves. We have decided if there is a dog in the picture or not and we have saved it in the dataframe as a boolean value. Our criteria is very subjective, we have decided to put a yes in all cases that there is a dog in the picture, even if it is not the main objective, if there are other animals in front of them or it or if they are too far or blurred. But it can be a reference to compare the other three methods.\n",
    "\n",
    "Once that we have this 300 pictures we can do bootstrapping to calculate the range of proportion of dogs in all the pictures with a confidence interval of 95%, and compare this values with the proportions given by the predictors:\n",
    "\n",
    "<img src=pictures/dist_prop.jpg alt=\"drawing\" width=\"700\"/>"
   ]
  },
  {
   "cell_type": "markdown",
   "metadata": {},
   "source": [
    "The values obtained for this sample have been:\n",
    "\n",
    "* **Proportion of dogs observed:** 0.93.\n",
    "* **Margin of proportions for the population with a confidence interval of 95%:** 0.9 to 0.957. "
   ]
  },
  {
   "cell_type": "markdown",
   "metadata": {},
   "source": [
    "The values for the proportion of dogs detected with the three methods given by Udacity are:\n",
    "\n",
    "* **Method 1:** 0.735.\n",
    "* **Method 2:** 0.75.\n",
    "* **Method 3:** 0.744.\n",
    "\n",
    "If we consider the case in which any of the three methos have detected that the picture is about a dog:\n",
    "\n",
    "* **Method 1 OR Method 2 OR Method 3:** 0.844. "
   ]
  },
  {
   "cell_type": "markdown",
   "metadata": {},
   "source": [
    "We can see that in all the cases they are too far from the confidence interval that we have obtained before. This is normal because the criteria that we have followed was very extricted. We have selected as a dog some pictures that are very dificult to interpretate for a prediction method."
   ]
  },
  {
   "cell_type": "markdown",
   "metadata": {},
   "source": [
    "In any case we want to continue with this analysis and try to know which of the prediction methods is closer to our own interpretations. Or which is the same, which of the prection methods would have more influence trying to predict the result of our interpretations of the pictures."
   ]
  },
  {
   "cell_type": "markdown",
   "metadata": {},
   "source": [
    "To do that we have applied a logistic regression method. In this case our interpretation in `real_dog` column will be the response variable and the predictors will are `intercept`,`p1_dog`, `p2_dog` and `p3_dog`."
   ]
  },
  {
   "cell_type": "markdown",
   "metadata": {},
   "source": [
    "This has been the result:\n",
    "\n",
    "\n",
    "| **Logit Regression Results** |                  |                   |           |       |        |        |\n",
    "|--------------------------|------------------|-------------------|-----------|-------|--------|--------|\n",
    "| **Dep. Variable:**           | real_dog         | **No. Observations:** | 300       |       |        |        |\n",
    "| **Model:**                   | Logit            | **Df Residuals:**     | 296       |       |        |        |\n",
    "| **Method:**                  | MLE              | **Df Model:**         | 3         |       |        |        |\n",
    "| **Date:**                    | Sat, 16 Nov 2019 | **Pseudo R-squ.:**    | 0.3220    |       |        |        |\n",
    "| **Time:**                    | 13:17:53         | **Log-Likelihood:**   | -51.589   |       |        |        |\n",
    "| **converged:**               | True             | **LL-Null:**          | -76.092   |       |        |        |\n",
    "| **Covariance Type:**         | nonrobust        | **LLR p-value:**      | 1.301e-10 |       |        |        |\n",
    "|                          | **coef**             | **std err**           | **z**         | **P>\\|z\\|** | **\\[0.025 \\| 0.975\\]** |\n",
    "| **intercept**                | 0.5413           | 0.313             | 1.727     | 0.084 | -0.073 | 1.156  |\n",
    "| **p1_dog**                   | 2.0161           | 0.759             | 2.655     | 0.008 | 0.528  | 3.505  |\n",
    "| **p2_dog**                   | 0.8803           | 0.739             | 1.191     | 0.234 | -0.569 | 2.329  |\n",
    "| **p3_dog**                   | 1.4498           | 0.668             | 2.170     | 0.030 | 0.140  | 2.759  |"
   ]
  },
  {
   "cell_type": "markdown",
   "metadata": {},
   "source": [
    "We can also calculate the exponential of the coeficientes to see how they influence in the linear regression of the logit of the proportions: \n",
    "\n",
    "**intercept:** 1.71821559\n",
    "\n",
    "**p1_dog:** 7.50934685\n",
    "\n",
    "**p2_dog:** 2.4116294\n",
    "\n",
    "**p3_dog:** 4.26207906\n",
    "\n"
   ]
  },
  {
   "cell_type": "markdown",
   "metadata": {},
   "source": [
    "We can conclude from this values that teh P1 is the method that is more closer to our interpretations, because if this method detects a dog, the logit of the probability of that we have detected a dog is incremented by 7.5. While with the method P2 it only increments by 2.4 and by 4.3 in the case of P3."
   ]
  },
  {
   "cell_type": "markdown",
   "metadata": {},
   "source": [
    "\n",
    "\n",
    "To continue with this approach we have tried to investigate if other variables can be also helpful to predict our interpretations. To do so we have repeated the logistic regression model usin also the variables `favorite_count`, `retweet_count` and `replies_count`.\n",
    "\n",
    "The result is showed in this table:\n",
    "\n",
    "| Logit Regression Results |                  |                       |           |       |           |        |\n",
    "|--------------------------|------------------|-----------------------|-----------|-------|-----------|--------|\n",
    "| **Dep. Variable:**       | real_dog         | **No. Observations:** | 300       |       |           |        |\n",
    "| **Model:**               | Logit            | **Df Residuals:**     | 293       |       |           |        |\n",
    "| **Method:**              | MLE              | **Df Model:**         | 6         |       |           |        |\n",
    "| **Date:**                | Sat, 16 Nov 2019 | **Pseudo R-squ.:**    | 0.3639    |       |           |        |\n",
    "| **Time:**                | 13:17:54         | **Log-Likelihood:**   | -48.403   |       |           |        |\n",
    "| **converged:**           | True             | **LL-Null:**          | -76.092   |       |           |        |\n",
    "| **Covariance Type:**     | nonrobust        | **LLR p-value:**      | 3.890e-10 |       |           |        |\n",
    "|                          | **coef**         | **std err**           | **z**     | **P>\\|z\\|** | **\\[0.025**    | **0.975\\]** |\n",
    "| **intercept**            | -0.3083          | 0.498                 | -0.619    | 0.536 | -1.284    | 0.668  |\n",
    "| **p1_dog**               | 2.0863           | 0.763                 | 2.734     | 0.006 | 0.591     | 3.582  |\n",
    "| **p2_dog**               | 0.8517           | 0.733                 | 1.162     | 0.245 | -0.585    | 2.288  |\n",
    "| **p3_dog**               | 1.4044           | 0.665                 | 2.110     | 0.035 | 0.100     | 2.709  |\n",
    "| **favorite_count**       | 0.0001           | 7.18e-05              | 1.748     | 0.081 | -1.52e-05 | 0.000  |\n",
    "| **retweet_count**        | -0.0002          | 0.000                 | -1.177    | 0.239 | -0.001    | 0.000  |\n",
    "| **replies_count**        | 0.0329           | 0.026                 | 1.251     | 0.211 | -0.019    | 0.085  |"
   ]
  },
  {
   "cell_type": "markdown",
   "metadata": {},
   "source": [
    "As in the first case, the exponentials of the coefiecients will be:\n",
    "\n",
    "**intercept:** 0.7347277 \n",
    "\n",
    "**p1_dog:** 8.05507691 \n",
    "\n",
    "**p2_dog:**2.34364546\n",
    "\n",
    "**p3_dog:** 4.07301167\n",
    "\n",
    "**favorite_count:** 1.00012541\n",
    "\n",
    "**retweet_count:** 0.9997896 \n",
    "\n",
    "**replies_count:** 1.03348974"
   ]
  },
  {
   "cell_type": "markdown",
   "metadata": {},
   "source": [
    "The values for the prediction methods are very similar to the previous case, but in addition we can see that the number of replies has a positive influence predicting if the picture is from a dog or not. It is more likely that there is a dog in the picture if the number of replies is high. This happens also with the number of favourits but the influence is not so important. On the other hand it seems that te pictures with dogs have, in general, slightly less retweets than the pictures without dogs.\n",
    "\n",
    "I don't think that this data can be very good to make predictions, but at least give us a general idea of how this variables can influence on a prediction. Or viewing the problem from another point of view, how to have a dog on the picture or not can influence in this variables: we generally have more or less replies with a picture of a dog, etc.\n",
    "\n",
    "Surely with a higher sample of pictures, we only have done the work with 300, the results wuould be more accurate, but as an example It can be enough."
   ]
  },
  {
   "cell_type": "markdown",
   "metadata": {},
   "source": [
    "<a id='analyzing_replies'></a>\n",
    "## Analysis Of Replies Per User And Per Breed"
   ]
  },
  {
   "cell_type": "markdown",
   "metadata": {},
   "source": [
    "In this part of the analysis we have estudied the activity of the users according their number of replies on the page."
   ]
  },
  {
   "cell_type": "markdown",
   "metadata": {},
   "source": [
    "We have explore the distribution of the number of replies per user and we have saw that most people only comment one or two times on the page. The best way to show that is with the description of this distribution, because the graphic is too highly skewed to the right. "
   ]
  },
  {
   "cell_type": "markdown",
   "metadata": {},
   "source": [
    "|           | **Replies**  |\n",
    "|----------:|----------|\n",
    "| **Count** | 22100    |\n",
    "| **Mean**  | 1.769683 |\n",
    "| **Std**   | 3.265758 |\n",
    "| **Min**   | 1        |\n",
    "| **25%**   | 1        |\n",
    "| **50%**   | 1        |\n",
    "| **75%**   | 2        |\n",
    "| **Max**   | 148      |"
   ]
  },
  {
   "cell_type": "markdown",
   "metadata": {},
   "source": [
    "To make this table we have delete all the replies corresponding to the user @dog_rates, that obviusly has the highest number of replies (465), but we are more interested in the behaviour of the rest of users.\n",
    "\n",
    "We can see that the 75% of all the users only have written one or two replies. And the standar deviation (the mean distance of all the users to the mean) is only 3."
   ]
  },
  {
   "cell_type": "markdown",
   "metadata": {},
   "source": [
    "Anyway there are some users that have been very active in this account. For example if we extract the ten users with more comments in the tweets, we will have this table:\n",
    "\n",
    "|    User ID | Replies |\n",
    "|-----------:|---------|\n",
    "| 4196983835 | 465     |\n",
    "| 401334573  | 148     |\n",
    "| 21163853   | 134     |\n",
    "| 594710756  | 108     |\n",
    "| 265825342  | 101     |\n",
    "| 27603608   | 92      |\n",
    "| 1432492135 | 85      |\n",
    "| 1337271    | 79      |\n",
    "| 842618414  | 76      |\n",
    "| 1417162219 | 67      |\n",
    "\n",
    "Here we can see, as we said, that the user @dog_rates is who have commented more pictures. And the next one has written 148 replies in all the registered tweets."
   ]
  },
  {
   "cell_type": "markdown",
   "metadata": {},
   "source": [
    "With the data that we have we can also extract some tables with the number of replies per breed of dog. This values will depend on the method used to predict the breed, but if we select in each case the ten breeds more commented we will have the results of this table:\n",
    "\n",
    "|           **P1 Breed** | **Comments** | **P2 Breed**                   | **Comments** | **P3 Breed**                    | **Comments** |\n",
    "|---------------------:|----------|----------------------------|----------|-----------------------------|------------|\n",
    "| **golden_retriever**   | 3940     | **Labrador_retriever**       | 2897     | **Labrador_retriever**        | 1550       |\n",
    "| **Pembroke**           | 2451     | **Cardigan**                 | 1940     | **Chihuahua**                 | 1189       |\n",
    "| **Labrador_retriever** | 1928     | **golden_retriever**         | 1565     | **kuvasz**                    | 954        |\n",
    "| **Chihuahua**          | 1508     | **Pomeranian**               | 1251     | **chow**                      | 907        |\n",
    "| **pug**                | 1029     | **toy_poodle**               | 1043     | **golden_retriever**          | 878        |\n",
    "| **French_bulldog**     | 908      | **Chesapeake_Bay_retriever** | 942      | **Staffordshire_bullterrier** | 871        |\n",
    "| **Samoyed**            | 905      | **Chihuahua**                | 927      | **cocker_spaniel**          | 806        |\n",
    "| **Cardigan**           | 813      | **cocker_spaniel**           | 785      | **basenji**                 | 800        |\n",
    "| **cocker_spaniel**     | 772      | **Pembroke**                 | 755      | **kelpie**                  | 761        |\n",
    "| **Pomeranian**         | 712      | **Siberian_husky**           | 721      | **Eskimo_dog**              | 745        |"
   ]
  },
  {
   "cell_type": "markdown",
   "metadata": {},
   "source": [
    "In this table we can see that surely the P1 Method must have tendency to predict golden retrievers dogs because it has a majority of replies from this breed. Whereas P2 and P3 tends to predict labrador retriever more frequently. "
   ]
  },
  {
   "cell_type": "markdown",
   "metadata": {},
   "source": [
    "Finally we have picked the five users with more replies and we have analized the distribution of their comments according the breed of the dog in the picture. We have done that to see whether they have tendency to comment some breed over the others. To do this analysis we have choose the predictions of the method P1.\n",
    "\n",
    "We have drawn the result using pie charts, the labels indicate the ten breeds most commented for each user:\n",
    "\n",
    "\n",
    "<img src=pictures/401334573.jpg alt=\"drawing\" width=\"500\"/>\n",
    "<img src=pictures/21163853.jpg alt=\"drawing\" width=\"500\"/>\n",
    "<img src=pictures/594710756.jpg alt=\"drawing\" width=\"500\"/>\n",
    "<img src=pictures/265825342.jpg alt=\"drawing\" width=\"500\"/>\n",
    "<img src=pictures/27603608.jpg alt=\"drawing\" width=\"500\"/>\n"
   ]
  },
  {
   "cell_type": "markdown",
   "metadata": {},
   "source": [
    "From this charts it seems that they could have certain tendencies to comment some breeds over others. If we compare the charts with the table below (number of pictures per breed for the 10 breeds with more pictures) we can see that they don't follow the same order. But we can also see that they have commented in general a large number of breeds, so it is dificult to know if this tendencies it was only a matter of frequency of breed pictures and chance.\n",
    "\n",
    "\n",
    "|          **Breed** | **Tweets** |\n",
    "|-------------------:|------------|\n",
    "| **golden_retriever**   | 102        |\n",
    "| **Pembroke**           | 65         |\n",
    "| **Labrador_retriever** | 64         |\n",
    "| **Chihuahua**          | 47         |\n",
    "| **pug**                | 41         |\n",
    "| **Pomeranian**         | 26         |\n",
    "| **cocker_spaniel**     | 23         |\n",
    "| **chow**               | 22         |\n",
    "| **toy_poodle**         | 21         |\n",
    "| **Samoyed**            | 20         |"
   ]
  },
  {
   "cell_type": "markdown",
   "metadata": {},
   "source": [
    "A further analysis in this sense would be necessary to extract a more specific conclusion."
   ]
  },
  {
   "cell_type": "markdown",
   "metadata": {},
   "source": [
    "<a id='future'></a>\n",
    "## Future Analysis"
   ]
  },
  {
   "cell_type": "markdown",
   "metadata": {},
   "source": [
    "Besides doing a deeper exploration about if some users have a clear tendency to comment some kind of pictures I also would like to do a predictor based in the text of the replies. And compare the results with the image predictors.\n",
    "\n",
    "The method would be very similar to the method explained by Sebastian Thrun in the course Introduction to Artificial Intelligence to do a Spam Mail detector. It not seems very complex, it would be only to make dictionaries of words for tweets with dogs and tweets without dogs and then, for a new message, apply the Bayes rule to calculate the probability that the picture of this message have a dog or not.\n",
    "\n",
    "Maybe the first anaylsis that we have done in this project can be useful also, because it can happen that the large discussions are not so useful to make a prediction. Many times they started to argue about things that are note related witht the dog. Probably short comments as are more sincere or can give us a more direct information about the picture. I don't know, it is something that it would be necessary to explore. \n",
    "\n",
    "Anyway this is out of the objectives of this course and I would like to finish this one to continue with the next project."
   ]
  }
 ],
 "metadata": {
  "kernelspec": {
   "display_name": "Python [conda env:wrangling] *",
   "language": "python",
   "name": "conda-env-wrangling-py"
  },
  "language_info": {
   "codemirror_mode": {
    "name": "ipython",
    "version": 3
   },
   "file_extension": ".py",
   "mimetype": "text/x-python",
   "name": "python",
   "nbconvert_exporter": "python",
   "pygments_lexer": "ipython3",
   "version": "3.7.5"
  }
 },
 "nbformat": 4,
 "nbformat_minor": 2
}
